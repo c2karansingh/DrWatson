{
 "cells": [
  {
   "cell_type": "markdown",
   "metadata": {},
   "source": [
    "# OpenAI API"
   ]
  },
  {
   "cell_type": "code",
   "execution_count": 42,
   "metadata": {},
   "outputs": [],
   "source": [
    "from openai import OpenAI\n",
    "client = OpenAI(api_key=\"api-key-here\")\n",
    "\n",
    "audio_file= open(\"marathi.mp3\", \"rb\")\n",
    "transcript = client.audio.translations.create(\n",
    "  model=\"whisper-1\", \n",
    "  file=audio_file\n",
    ")\n"
   ]
  },
  {
   "cell_type": "code",
   "execution_count": 43,
   "metadata": {},
   "outputs": [
    {
     "data": {
      "text/plain": [
       "'Hi, my name is Rishi, I have a headache, I am feeling hot and my back is aching. I am very bored.'"
      ]
     },
     "execution_count": 43,
     "metadata": {},
     "output_type": "execute_result"
    }
   ],
   "source": [
    "transcript.text\n"
   ]
  },
  {
   "cell_type": "code",
   "execution_count": 44,
   "metadata": {},
   "outputs": [],
   "source": [
    "response = client.chat.completions.create(\n",
    "  model=\"gpt-3.5-turbo\",\n",
    "  messages=[\n",
    "    {\"role\": \"system\", \"content\": \"You are an intern in the healthcare domain and have been tasked to take a patient's medical history.\"},\n",
    "    {\"role\": \"user\", \"content\": f\"The patient has provided the following history so far '{transcript.text}'. Now based on this patient's medical history, can you give me a list of questions i have to ask to the patient to get more information from them, so that doctor has all the information to help the patient. Give me the questions in the following format 'question#: question' Don't say anything other than the above format. don't format the text . give me only 3 follow up questions\"},\n",
    "  ]\n",
    ")\n"
   ]
  },
  {
   "cell_type": "code",
   "execution_count": 45,
   "metadata": {},
   "outputs": [
    {
     "name": "stdout",
     "output_type": "stream",
     "text": [
      "question1: When did the headache start?\n",
      "question2: Have you taken any medication for the headache?\n",
      "question3: On a scale of 1 to 10, what is the intensity of your headache?\n"
     ]
    }
   ],
   "source": [
    "for q in (response.choices[0].message.content.split(\"\\n\")):\n",
    "    print(q)\n"
   ]
  },
  {
   "cell_type": "code",
   "execution_count": 46,
   "metadata": {},
   "outputs": [],
   "source": [
    "audio_file= open(\"hindi-followup.mp3\", \"rb\")\n",
    "transcript_followup = client.audio.translations.create(\n",
    "  model=\"whisper-1\", \n",
    "  file=audio_file\n",
    ")\n"
   ]
  },
  {
   "cell_type": "code",
   "execution_count": 47,
   "metadata": {},
   "outputs": [
    {
     "data": {
      "text/plain": [
       "\"I've been having a headache for the past 2 weeks and it's intensity is 7. I haven't tried a lot of medications and I've been using the same remedies at home. I used to drink hot water. And my whole body is aching and I'm feeling hot.\""
      ]
     },
     "execution_count": 47,
     "metadata": {},
     "output_type": "execute_result"
    }
   ],
   "source": [
    "transcript_followup.text\n"
   ]
  },
  {
   "cell_type": "code",
   "execution_count": 48,
   "metadata": {},
   "outputs": [],
   "source": [
    "response = client.chat.completions.create(\n",
    "  model=\"gpt-3.5-turbo\",\n",
    "  messages=[\n",
    "    {\"role\": \"system\", \"content\": \"You are an intern in the healthcare domain and have been tasked to take a patient's medical history.\"},\n",
    "    {\"role\": \"user\", \"content\": f\"The patient has provided the following history so far '{transcript.text}' and '{transcript_followup.text}'. convert this into a doctor's notes format with sections for only the details you have without a plan of action. don't add a note for this being fictional, that is acceptable. Don't add any text formatting\"},\n",
    "  ]\n",
    ")\n"
   ]
  },
  {
   "cell_type": "code",
   "execution_count": 49,
   "metadata": {},
   "outputs": [
    {
     "name": "stdout",
     "output_type": "stream",
     "text": [
      "Patient Name: Rishi\n",
      "\n",
      "Chief Complaints:\n",
      "1. Headache: 2 weeks duration, intensity 7/10\n",
      "2. Feeling hot\n",
      "3. Backache\n",
      "4. Boredom\n",
      "\n",
      "History of Present Illness:\n",
      "The patient, Rishi, presents with a persistent headache over the past two weeks, with an intensity rating of 7 out of 10. Patient also reports feeling hot and experiencing aching throughout the entire body. Patient mentions that they have been using home remedies, including drinking hot water, to alleviate their symptoms. Additionally, the patient expresses a sense of boredom.\n",
      "\n",
      "Medication History:\n",
      "Patient has not tried many medications for their headache and other symptoms.\n",
      "\n",
      "Additional Notes:\n",
      "No further information available at this time.\n"
     ]
    }
   ],
   "source": [
    "for q in (response.choices[0].message.content.split(\"\\n\")):\n",
    "    print(q)\n"
   ]
  },
  {
   "cell_type": "code",
   "execution_count": 50,
   "metadata": {},
   "outputs": [],
   "source": [
    "\n",
    "client = boto3.client(service_name='comprehendmedical')\n"
   ]
  },
  {
   "cell_type": "code",
   "execution_count": 39,
   "metadata": {},
   "outputs": [
    {
     "data": {
      "text/plain": [
       "'Patient Name: RishiChief Complaint: Headache, feeling hot, back pain, and generalized body acheHistory of Present Illness:The patient reports experiencing a headache for the past 2 weeks with an intensity level of 7 out of 10. The headache is accompanied by a feeling of heat and aching in the entire body. The patient has not tried many medications, relying primarily on home remedies such as drinking hot water.Past Medical History: Review of Systems: - Neurological: Headache, intensity level 7/10- Musculoskeletal: Back pain- General: Feeling hot, generalized body ache- Psychiatric: BoredomAllergies: No known allergiesMedications: No current medicationsSocial History: No significant social historyFamily History: No significant family medical history providedConclusion: The patient, Rishi, presents with a persistent headache, feeling hot, back pain, and generalized body ache. The headache has been occurring for the past 2 weeks with an intensity level of 7 out of 10. The patient has not tried many medications, relying on home remedies such as drinking hot water. Further evaluation and diagnostic tests may be necessary to determine the underlying cause of the symptoms.'"
      ]
     },
     "execution_count": 39,
     "metadata": {},
     "output_type": "execute_result"
    }
   ],
   "source": []
  },
  {
   "cell_type": "code",
   "execution_count": 35,
   "metadata": {},
   "outputs": [
    {
     "data": {
      "text/plain": [
       "'bbc'"
      ]
     },
     "execution_count": 35,
     "metadata": {},
     "output_type": "execute_result"
    }
   ],
   "source": []
  },
  {
   "cell_type": "code",
   "execution_count": 51,
   "metadata": {},
   "outputs": [],
   "source": [
    "result = client.detect_entities(Text=response.choices[0].message.content)\n"
   ]
  },
  {
   "cell_type": "code",
   "execution_count": 41,
   "metadata": {},
   "outputs": [
    {
     "name": "stdout",
     "output_type": "stream",
     "text": [
      "PROTECTED_HEALTH_INFORMATION Rishi NAME []\n",
      "MEDICAL_CONDITION Headache DX_NAME []\n",
      "MEDICAL_CONDITION feeling hot DX_NAME []\n",
      "ANATOMY back SYSTEM_ORGAN_SITE []\n",
      "MEDICAL_CONDITION back pain DX_NAME []\n",
      "MEDICAL_CONDITION generalized body ache DX_NAME []\n",
      "ANATOMY body SYSTEM_ORGAN_SITE []\n",
      "MEDICAL_CONDITION headache DX_NAME [{'Type': 'ACUITY', 'Score': 0.7726567387580872, 'RelationshipScore': 0.9999920129776001, 'RelationshipType': 'ACUITY', 'Id': 17, 'BeginOffset': 179, 'EndOffset': 191, 'Text': 'past 2 weeks', 'Category': 'MEDICAL_CONDITION', 'Traits': []}]\n",
      "MEDICAL_CONDITION past 2 weeks ACUITY []\n",
      "TEST_TREATMENT_PROCEDURE intensity level TEST_NAME [{'Type': 'TEST_VALUE', 'Score': 0.586040735244751, 'RelationshipScore': 0.9955652356147766, 'RelationshipType': 'TEST_VALUE', 'Id': 42, 'BeginOffset': 219, 'EndOffset': 230, 'Text': '7 out of 10', 'Category': 'TEST_TREATMENT_PROCEDURE', 'Traits': []}]\n",
      "MEDICAL_CONDITION headache DX_NAME [{'Type': 'ACUITY', 'Score': 0.7726567387580872, 'RelationshipScore': 0.6363846063613892, 'RelationshipType': 'ACUITY', 'Id': 17, 'BeginOffset': 179, 'EndOffset': 191, 'Text': 'past 2 weeks', 'Category': 'MEDICAL_CONDITION', 'Traits': []}]\n",
      "MEDICAL_CONDITION feeling of heat DX_NAME [{'Type': 'SYSTEM_ORGAN_SITE', 'Score': 0.5299206972122192, 'RelationshipScore': 0.9923422932624817, 'RelationshipType': 'SYSTEM_ORGAN_SITE', 'Id': 3, 'BeginOffset': 299, 'EndOffset': 310, 'Text': 'entire body', 'Category': 'ANATOMY', 'Traits': []}]\n",
      "MEDICAL_CONDITION aching DX_NAME [{'Type': 'SYSTEM_ORGAN_SITE', 'Score': 0.5299206972122192, 'RelationshipScore': 0.9994339346885681, 'RelationshipType': 'SYSTEM_ORGAN_SITE', 'Id': 3, 'BeginOffset': 299, 'EndOffset': 310, 'Text': 'entire body', 'Category': 'ANATOMY', 'Traits': []}]\n",
      "ANATOMY entire body SYSTEM_ORGAN_SITE []\n",
      "TEST_TREATMENT_PROCEDURE medications TREATMENT_NAME []\n",
      "TEST_TREATMENT_PROCEDURE home remedies TREATMENT_NAME []\n",
      "ANATOMY Neurological SYSTEM_ORGAN_SITE []\n",
      "MEDICAL_CONDITION Headache DX_NAME [{'Type': 'SYSTEM_ORGAN_SITE', 'Score': 0.9986730813980103, 'RelationshipScore': 0.9984539747238159, 'RelationshipType': 'SYSTEM_ORGAN_SITE', 'Id': 4, 'BeginOffset': 466, 'EndOffset': 478, 'Text': 'Neurological', 'Category': 'ANATOMY', 'Traits': []}, {'Type': 'QUALITY', 'Score': 0.6577412486076355, 'RelationshipScore': 1.0, 'RelationshipType': 'QUALITY', 'Id': 23, 'BeginOffset': 490, 'EndOffset': 510, 'Text': 'intensity level 7/10', 'Category': 'MEDICAL_CONDITION', 'Traits': []}]\n",
      "ANATOMY Musculoskeletal SYSTEM_ORGAN_SITE []\n",
      "ANATOMY Back SYSTEM_ORGAN_SITE []\n",
      "MEDICAL_CONDITION Back pain DX_NAME [{'Type': 'SYSTEM_ORGAN_SITE', 'Score': 0.9985223412513733, 'RelationshipScore': 0.992635190486908, 'RelationshipType': 'SYSTEM_ORGAN_SITE', 'Id': 5, 'BeginOffset': 513, 'EndOffset': 528, 'Text': 'Musculoskeletal', 'Category': 'ANATOMY', 'Traits': []}]\n",
      "ANATOMY General SYSTEM_ORGAN_SITE []\n",
      "MEDICAL_CONDITION Feeling hot DX_NAME [{'Type': 'SYSTEM_ORGAN_SITE', 'Score': 0.9949989318847656, 'RelationshipScore': 0.6830970644950867, 'RelationshipType': 'SYSTEM_ORGAN_SITE', 'Id': 7, 'BeginOffset': 542, 'EndOffset': 549, 'Text': 'General', 'Category': 'ANATOMY', 'Traits': []}]\n",
      "MEDICAL_CONDITION generalized body ache DX_NAME []\n",
      "ANATOMY body SYSTEM_ORGAN_SITE []\n",
      "ANATOMY Psychiatric SYSTEM_ORGAN_SITE []\n",
      "MEDICAL_CONDITION Boredom DX_NAME [{'Type': 'SYSTEM_ORGAN_SITE', 'Score': 0.9981993436813354, 'RelationshipScore': 0.9750511646270752, 'RelationshipType': 'SYSTEM_ORGAN_SITE', 'Id': 9, 'BeginOffset': 588, 'EndOffset': 599, 'Text': 'Psychiatric', 'Category': 'ANATOMY', 'Traits': []}]\n",
      "TEST_TREATMENT_PROCEDURE Medications TREATMENT_NAME []\n",
      "TEST_TREATMENT_PROCEDURE medications TREATMENT_NAME []\n",
      "MEDICAL_CONDITION Rishi DX_NAME []\n",
      "PROTECTED_HEALTH_INFORMATION Rishi NAME []\n",
      "MEDICAL_CONDITION persistent ACUITY []\n",
      "MEDICAL_CONDITION headache DX_NAME [{'Type': 'ACUITY', 'Score': 0.693301796913147, 'RelationshipScore': 0.9999933242797852, 'RelationshipType': 'ACUITY', 'Id': 29, 'BeginOffset': 838, 'EndOffset': 848, 'Text': 'persistent', 'Category': 'MEDICAL_CONDITION', 'Traits': []}]\n",
      "MEDICAL_CONDITION feeling hot DX_NAME [{'Type': 'ACUITY', 'Score': 0.693301796913147, 'RelationshipScore': 0.9801801443099976, 'RelationshipType': 'ACUITY', 'Id': 29, 'BeginOffset': 838, 'EndOffset': 848, 'Text': 'persistent', 'Category': 'MEDICAL_CONDITION', 'Traits': []}]\n",
      "ANATOMY back SYSTEM_ORGAN_SITE []\n",
      "MEDICAL_CONDITION pain DX_NAME [{'Type': 'SYSTEM_ORGAN_SITE', 'Score': 0.9908994436264038, 'RelationshipScore': 0.9841870665550232, 'RelationshipType': 'SYSTEM_ORGAN_SITE', 'Id': 10, 'BeginOffset': 872, 'EndOffset': 876, 'Text': 'back', 'Category': 'ANATOMY', 'Traits': []}]\n",
      "ANATOMY body SYSTEM_ORGAN_SITE []\n",
      "MEDICAL_CONDITION ache DX_NAME [{'Type': 'QUALITY', 'Score': 0.8018571138381958, 'RelationshipScore': 1.0, 'RelationshipType': 'QUALITY', 'Id': 33, 'BeginOffset': 887, 'EndOffset': 898, 'Text': 'generalized', 'Category': 'MEDICAL_CONDITION', 'Traits': []}, {'Type': 'SYSTEM_ORGAN_SITE', 'Score': 0.9575396180152893, 'RelationshipScore': 0.9974148273468018, 'RelationshipType': 'SYSTEM_ORGAN_SITE', 'Id': 11, 'BeginOffset': 899, 'EndOffset': 903, 'Text': 'body', 'Category': 'ANATOMY', 'Traits': []}]\n",
      "MEDICAL_CONDITION headache DX_NAME [{'Type': 'ACUITY', 'Score': 0.7841333150863647, 'RelationshipScore': 0.9999823570251465, 'RelationshipType': 'ACUITY', 'Id': 36, 'BeginOffset': 950, 'EndOffset': 962, 'Text': 'past 2 weeks', 'Category': 'MEDICAL_CONDITION', 'Traits': []}]\n",
      "MEDICAL_CONDITION past 2 weeks ACUITY []\n",
      "TEST_TREATMENT_PROCEDURE intensity level TEST_NAME [{'Type': 'TEST_VALUE', 'Score': 0.5283033847808838, 'RelationshipScore': 0.9851363897323608, 'RelationshipType': 'TEST_VALUE', 'Id': 49, 'BeginOffset': 990, 'EndOffset': 1001, 'Text': '7 out of 10', 'Category': 'TEST_TREATMENT_PROCEDURE', 'Traits': []}]\n",
      "TEST_TREATMENT_PROCEDURE medications TREATMENT_NAME []\n",
      "TEST_TREATMENT_PROCEDURE diagnostic tests TEST_NAME []\n",
      "MEDICAL_CONDITION symptoms DX_NAME []\n"
     ]
    }
   ],
   "source": [
    "for ent in result['Entities']:\n",
    "    print(ent.get('Category'), ent.get('Text'), ent.get('Type', []), ent.get('Attributes', []))\n"
   ]
  },
  {
   "cell_type": "code",
   "execution_count": null,
   "metadata": {},
   "outputs": [],
   "source": []
  }
 ],
 "metadata": {
  "kernelspec": {
   "display_name": "DrWatson-Bjyn8j5G",
   "language": "python",
   "name": "python3"
  },
  "language_info": {
   "codemirror_mode": {
    "name": "ipython",
    "version": 3
   },
   "file_extension": ".py",
   "mimetype": "text/x-python",
   "name": "python",
   "nbconvert_exporter": "python",
   "pygments_lexer": "ipython3",
   "version": "3.11.4"
  }
 },
 "nbformat": 4,
 "nbformat_minor": 2
}
